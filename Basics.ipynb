{
 "cells": [
  {
   "cell_type": "markdown",
   "metadata": {
    "collapsed": true
   },
   "source": [
    "# Data Analysis on 'Hacker News Website'\n",
    "Hacker news is a site started by the starup incubator **[Y Combinator](https://www.ycombinator.com/)**, where user-submitted stories are voted and commented upon, similar to reddit. Hacker news is extremly popular in technology and startup circles, and posts that make it to the top of Hacker News' listings can get hundreads of thousands of visitors as a result.The dataset consists of following features:\n",
    "\n",
    "- <font color='red'>id</font>: The unique identifier from Hacker News for that post. \n",
    "- <font color='red'>title</font>: Tha name or title of the post.\n",
    "- <font color='red'>url</font>: The URL that post link to, if it has.\n",
    "- <font color='red'>num_points</font>: The number of points the post acquired, calculate as the total number of upvotes minus the total number of downvotes.\n",
    "- <font color='red'>num_comments</font>: The number of comments that were made on the post.\n",
    "- <font color='red'>author</font>: The username of the author who sumbmitted the post.\n",
    "- <font color='red'>created_at</font>: The date and time at which post was submitted.\n",
    "\n",
    "For raw dataset, you have to click [here](https://www.kaggle.com/hacker-news/hacker-news-posts).\n"
   ]
  },
  {
   "cell_type": "code",
   "execution_count": 3,
   "metadata": {},
   "outputs": [
    {
     "data": {
      "text/html": [
       "<table><tr><td>id</td><td>title</td><td>url</td><td>num_points</td><td>num_comments</td><td>author</td><td>created_at</td></tr><tr><td>12224879</td><td>Interactive Dynamic Video</td><td>http://www.interactivedynamicvideo.com/</td><td>386</td><td>52</td><td>ne0phyte</td><td>8/4/2016 11:52</td></tr><tr><td>10975351</td><td>How to Use Open Source and Shut the Fuck Up at the Same Time</td><td>http://hueniverse.com/2016/01/26/how-to-use-open-source-and-shut-the-fuck-up-at-the-same-time/</td><td>39</td><td>10</td><td>josep2</td><td>1/26/2016 19:30</td></tr><tr><td>11964716</td><td>Florida DJs May Face Felony for April Fools' Water Joke</td><td>http://www.thewire.com/entertainment/2013/04/florida-djs-april-fools-water-joke/63798/</td><td>2</td><td>1</td><td>vezycash</td><td>6/23/2016 22:20</td></tr><tr><td>11919867</td><td>Technology ventures: From Idea to Enterprise</td><td>https://www.amazon.com/Technology-Ventures-Enterprise-Thomas-Byers/dp/0073523429</td><td>3</td><td>1</td><td>hswarna</td><td>6/17/2016 0:01</td></tr></table>"
      ],
      "text/plain": [
       "<IPython.core.display.HTML object>"
      ]
     },
     "metadata": {},
     "output_type": "display_data"
    }
   ],
   "source": [
    "# import and read the file\n",
    "from csv import reader\n",
    "from IPython.display import HTML, display\n",
    "\n",
    "opened_file = open('hacker_news.csv') #file name\n",
    "read_file = reader(opened_file)\n",
    "hn = list(read_file)\n",
    "\n",
    "display(HTML(\n",
    "   '<table><tr>{}</tr></table>'.format(\n",
    "       '</tr><tr>'.join(\n",
    "           '<td>{}</td>'.format('</td><td>'.join(str(_) for _ in row)) for row in hn[:5])\n",
    "       )\n",
    "))"
   ]
  },
  {
   "cell_type": "markdown",
   "metadata": {},
   "source": [
    "# We're interested in Specific Posts\n",
    "One can see above what each header is meant for. For this analsis work, we're specifically interested in posts whose 'title' bigins with either 'Ask HN' or 'Show HN'. Here users submit <font color='red'>Ask HN</font> post to ask the Hacker News community a specific question. Below examples give glimpse of that posts:\n",
    "- **Ask HN: How to improve my personal website?**\n",
    "- **Ask HN: Am I the only one outraged by Twitter shutting down share counts?**\n",
    "\n",
    "In a very similar way, users submit <font color='red'>Show HN</font> posts to show the Hacker News community a project, product, or just generally something interesting. Below are a couple of exmples:\n",
    "- **Show HN: Wio Link  ESP8266 Based Web of Things Hardware Development Platform'**\n",
    "- ** Show HN: Something pointless I made**\n"
   ]
  },
  {
   "cell_type": "code",
   "execution_count": 7,
   "metadata": {},
   "outputs": [
    {
     "name": "stdout",
     "output_type": "stream",
     "text": [
      "['id', 'title', 'url', 'num_points', 'num_comments', 'author', 'created_at']\n",
      "['12224879', 'Interactive Dynamic Video', 'http://www.interactivedynamicvideo.com/', '386', '52', 'ne0phyte', '8/4/2016 11:52']\n",
      "['10975351', 'How to Use Open Source and Shut the Fuck Up at the Same Time', 'http://hueniverse.com/2016/01/26/how-to-use-open-source-and-shut-the-fuck-up-at-the-same-time/', '39', '10', 'josep2', '1/26/2016 19:30']\n",
      "['11964716', \"Florida DJs May Face Felony for April Fools' Water Joke\", 'http://www.thewire.com/entertainment/2013/04/florida-djs-april-fools-water-joke/63798/', '2', '1', 'vezycash', '6/23/2016 22:20']\n",
      "['11919867', 'Technology ventures: From Idea to Enterprise', 'https://www.amazon.com/Technology-Ventures-Enterprise-Thomas-Byers/dp/0073523429', '3', '1', 'hswarna', '6/17/2016 0:01']\n"
     ]
    }
   ],
   "source": [
    "# displa data \n",
    "print(*hn[0:5], sep='\\n')"
   ]
  },
  {
   "cell_type": "markdown",
   "metadata": {},
   "source": [
    "# Remove Headers\n",
    "One can notice that the dataset has included with headers in the first column. In order to analze data, we need to first remove the row containing column headers."
   ]
  },
  {
   "cell_type": "code",
   "execution_count": 19,
   "metadata": {},
   "outputs": [
    {
     "name": "stdout",
     "output_type": "stream",
     "text": [
      "['id', 'title', 'url', 'num_points', 'num_comments', 'author', 'created_at']\n",
      "\n",
      "\n",
      "['12224879', 'Interactive Dynamic Video', 'http://www.interactivedynamicvideo.com/', '386', '52', 'ne0phyte', '8/4/2016 11:52']\n",
      "['10975351', 'How to Use Open Source and Shut the Fuck Up at the Same Time', 'http://hueniverse.com/2016/01/26/how-to-use-open-source-and-shut-the-fuck-up-at-the-same-time/', '39', '10', 'josep2', '1/26/2016 19:30']\n"
     ]
    }
   ],
   "source": [
    "# remove the column headers from the data\n",
    "headers = hn[0]\n",
    "print(headers)\n",
    "print('\\n')\n",
    "hn_new = hn[1:]\n",
    "print(*hn_new[:2], sep='\\n')"
   ]
  },
  {
   "cell_type": "markdown",
   "metadata": {},
   "source": [
    "  "
   ]
  },
  {
   "cell_type": "markdown",
   "metadata": {},
   "source": [
    "# Select Specific Posts: 'Ask HN' & 'Show HN'\n",
    "Separate the data based on wheather the post is asked or showed, that is <font color = 'red'>Ask HN/Show HN</font> starting text at each of the title index row. Python's 'startswith' string method helps us in findig the needed text from the given text.\n",
    "\n",
    "At the end display the number of <font color = 'red'>Ask HN/Show HN/ other HN</font> posts and their outputs."
   ]
  },
  {
   "cell_type": "code",
   "execution_count": 31,
   "metadata": {},
   "outputs": [
    {
     "name": "stdout",
     "output_type": "stream",
     "text": [
      "The number of Ask HN Posts: 1744\n"
     ]
    },
    {
     "data": {
      "text/html": [
       "<table><tr><td>12296411</td><td>Ask HN: How to improve my personal website?</td><td></td><td>2</td><td>6</td><td>ahmedbaracat</td><td>8/16/2016 9:55</td></tr><tr><td>10610020</td><td>Ask HN: Am I the only one outraged by Twitter shutting down share counts?</td><td></td><td>28</td><td>29</td><td>tkfx</td><td>11/22/2015 13:43</td></tr></table>"
      ],
      "text/plain": [
       "<IPython.core.display.HTML object>"
      ]
     },
     "metadata": {},
     "output_type": "display_data"
    },
    {
     "name": "stdout",
     "output_type": "stream",
     "text": [
      "\n",
      "\n",
      "The number of Show HN Posts: 1162\n"
     ]
    },
    {
     "data": {
      "text/html": [
       "<table><tr><td>10627194</td><td>Show HN: Wio Link  ESP8266 Based Web of Things Hardware Development Platform</td><td>https://iot.seeed.cc</td><td>26</td><td>22</td><td>kfihihc</td><td>11/25/2015 14:03</td></tr><tr><td>10646440</td><td>Show HN: Something pointless I made</td><td>http://dn.ht/picklecat/</td><td>747</td><td>102</td><td>dhotson</td><td>11/29/2015 22:46</td></tr></table>"
      ],
      "text/plain": [
       "<IPython.core.display.HTML object>"
      ]
     },
     "metadata": {},
     "output_type": "display_data"
    },
    {
     "name": "stdout",
     "output_type": "stream",
     "text": [
      "\n",
      "\n",
      "The number of other HN Posts: 17194\n"
     ]
    },
    {
     "data": {
      "text/html": [
       "<table><tr><td>12224879</td><td>Interactive Dynamic Video</td><td>http://www.interactivedynamicvideo.com/</td><td>386</td><td>52</td><td>ne0phyte</td><td>8/4/2016 11:52</td></tr><tr><td>10975351</td><td>How to Use Open Source and Shut the Fuck Up at the Same Time</td><td>http://hueniverse.com/2016/01/26/how-to-use-open-source-and-shut-the-fuck-up-at-the-same-time/</td><td>39</td><td>10</td><td>josep2</td><td>1/26/2016 19:30</td></tr></table>"
      ],
      "text/plain": [
       "<IPython.core.display.HTML object>"
      ]
     },
     "metadata": {},
     "output_type": "display_data"
    }
   ],
   "source": [
    "# empty lists to store the selected posts\n",
    "ask_posts = []\n",
    "show_posts = []\n",
    "other_posts = []\n",
    "\n",
    "# looping through each row in hn\n",
    "for row in hn_new:\n",
    "    title = row[1]\n",
    "    title = title.lower()\n",
    "    if title.startswith('ask hn'):\n",
    "        ask_posts.append(row)\n",
    "    elif title.startswith('show hn'):\n",
    "        show_posts.append(row)\n",
    "    else:\n",
    "        other_posts.append(row)\n",
    "        \n",
    "# display ask_posts and number of ask posts\n",
    "print('The number of Ask HN Posts:', len(ask_posts))\n",
    "display(HTML(\n",
    "   '<table><tr>{}</tr></table>'.format(\n",
    "       '</tr><tr>'.join(\n",
    "           '<td>{}</td>'.format('</td><td>'.join(str(_) for _ in row)) for row in ask_posts[:2])\n",
    "       )\n",
    "))\n",
    "  \n",
    "print('\\n')\n",
    "print('The number of Show HN Posts:', len(show_posts))\n",
    "display(HTML(\n",
    "   '<table><tr>{}</tr></table>'.format(\n",
    "       '</tr><tr>'.join(\n",
    "           '<td>{}</td>'.format('</td><td>'.join(str(_) for _ in row)) for row in show_posts[:2])\n",
    "       )\n",
    "))\n",
    "\n",
    "print('\\n')\n",
    "print('The number of other HN Posts:', len(other_posts))\n",
    "display(HTML(\n",
    "   '<table><tr>{}</tr></table>'.format(\n",
    "       '</tr><tr>'.join(\n",
    "           '<td>{}</td>'.format('</td><td>'.join(str(_) for _ in row)) for row in other_posts[:2])\n",
    "       )\n",
    "))"
   ]
  },
  {
   "cell_type": "markdown",
   "metadata": {},
   "source": [
    "# Ask Posts' vs Show Posts' comments\n",
    "In the following exercise, we're interested in to determine which type of post receives more comments out of two. First caculate the total number of comments in each type and divide it by the total number of posts which we've calculated in the above exercise. So this output will give us the average number of comments for each type of posts.  "
   ]
  },
  {
   "cell_type": "code",
   "execution_count": 32,
   "metadata": {},
   "outputs": [
    {
     "name": "stdout",
     "output_type": "stream",
     "text": [
      "Average number of comments on ask_posts is: 14.038417431192661\n",
      "Average number of comments on show_posts is: 10.31669535283993\n"
     ]
    }
   ],
   "source": [
    "# to determine the number of comments in the selected posts\n",
    "def cal_comments(posts):\n",
    "    # define variables to store summation\n",
    "    total_comments = 0\n",
    "    no_posts = 0\n",
    "   \n",
    "    # loop through eithe 'ask_posts' or 'show_posts'\n",
    "    for row in posts:\n",
    "        no_posts += 1\n",
    "        comment = int(row[4])\n",
    "        total_comments += comment\n",
    "        \n",
    "    avg_comments = (total_comments / no_posts)\n",
    "    return avg_comments\n",
    "    \n",
    "avg_ask_comments = cal_comments(ask_posts)\n",
    "avg_show_comments = cal_comments(show_posts)\n",
    "\n",
    "\n",
    "print('Average number of comments on ask_posts is:', avg_ask_comments)\n",
    "print('Average number of comments on show_posts is:', avg_show_comments)\n",
    "    \n",
    "    \n",
    "    "
   ]
  },
  {
   "cell_type": "markdown",
   "metadata": {},
   "source": [
    "# Ask Posts v/s Show Posts\n",
    "On average, Ask HN-posts recieves more comments compared to Show HN-posts. One can thik about this result as, people are more interested in 'Ask posts' compared to 'show posts'. Since 'Ask posts' recieved more comments than 'Show Posts', we'll focus only on analysis of Ask posts. As we have a data regarding the time at which these posts got created, we'll calculate the number of posts created in each hour of the day along with the number of comments recieved. \n",
    "\n"
   ]
  },
  {
   "cell_type": "code",
   "execution_count": 63,
   "metadata": {},
   "outputs": [
    {
     "name": "stdout",
     "output_type": "stream",
     "text": [
      "The number of posts received in each hour: \n",
      " {'00': 55, '01': 60, '02': 58, '03': 54, '04': 47, '05': 46, '06': 44, '07': 34, '08': 48, '09': 45, '10': 59, '11': 58, '12': 73, '13': 85, '14': 107, '15': 116, '16': 108, '17': 100, '18': 109, '19': 110, '20': 80, '21': 109, '22': 71, '23': 68} \n",
      "\n",
      "The number of comments received in each hour: \n",
      " {'00': 438, '01': 651, '02': 1379, '03': 421, '04': 335, '05': 436, '06': 397, '07': 266, '08': 488, '09': 246, '10': 793, '11': 640, '12': 684, '13': 1225, '14': 1414, '15': 4477, '16': 1798, '17': 1146, '18': 1438, '19': 1186, '20': 1721, '21': 1742, '22': 478, '23': 543}\n"
     ]
    }
   ],
   "source": [
    "# import datetime module as dt\n",
    "import datetime as dt\n",
    "import operator\n",
    "result_list = []\n",
    "\n",
    "# loop through ask_posts \n",
    "for row in ask_posts:\n",
    "    elements = [row[6], row[4]]\n",
    "    result_list.append(elements)\n",
    "\n",
    "#print(*result_list[0:5], sep='\\n')\n",
    "\n",
    "# Create a dictionary to hold the post and comments\n",
    "posts_by_hour = {}\n",
    "comments_by_hour = {}\n",
    "for row in result_list:\n",
    "    date = row[0]\n",
    "    dt_object = dt.datetime.strptime(date, '%m/%d/%Y %H:%M')  # create a datetime object\n",
    "    time = dt_object.strftime('%H')\n",
    "   \n",
    "    if time not in posts_by_hour:  #print(time)\n",
    "        posts_by_hour[time] = 1\n",
    "        comments_by_hour[time] = 1\n",
    "    else:\n",
    "        posts_by_hour[time] += 1\n",
    "        comments_by_hour[time] += int(row[1])\n",
    "        \n",
    "        \n",
    "# modifying dictionary display\n",
    "class SortedDisplayDict(dict):\n",
    "   def __str__(self):\n",
    "       return \"{\" + \", \".join(\"%r: %r\" % (key, self[key]) for key in sorted(self)) + \"}\"\n",
    "\n",
    "# display the results\n",
    "print('The number of posts received in each hour:', '\\n', SortedDisplayDict(posts_by_hour), '\\n')\n",
    "print('The number of comments received in each hour:', '\\n', SortedDisplayDict(comments_by_hour))\n"
   ]
  },
  {
   "cell_type": "markdown",
   "metadata": {
    "collapsed": true
   },
   "source": [
    "# Average on number of Comments received\n",
    "In the last exercise, we have calculated the following things.\n",
    "1. counts_by_hour: contains the number of ask posts created during each hour of the day.\n",
    "2. Comments_by_hour: contains the corresponding number of comments for each ask post created at that hour.\n",
    "\n",
    "Following are the steps in calculating the average number of comments during each hour of a day.\n",
    "- Initialize the empty list \n",
    "- Calculate the average number of comments received at each hour of a day by dividing the total number of comments with the total number of posts for that time.\n",
    "- Append the empty list with the result."
   ]
  },
  {
   "cell_type": "code",
   "execution_count": 72,
   "metadata": {
    "scrolled": true
   },
   "outputs": [
    {
     "name": "stdout",
     "output_type": "stream",
     "text": [
      "The average number of comments recieved at each hour of the day: \n",
      " {'00': '7.96', '01': '10.85', '02': '23.78', '03': '7.80', '04': '7.13', '05': '9.48', '06': '9.02', '07': '7.82', '08': '10.17', '09': '5.47', '10': '13.44', '11': '11.03', '12': '9.37', '13': '14.41', '14': '13.21', '15': '38.59', '16': '16.65', '17': '11.46', '18': '13.19', '19': '10.78', '20': '21.51', '21': '15.98', '22': '6.73', '23': '7.99'}\n"
     ]
    }
   ],
   "source": [
    "#Initialize a list to hold the average\n",
    "\n",
    "avg_by_hour = {}\n",
    "\n",
    "for hour in comments_by_hour:\n",
    "    avg_by_hour[hour] = format(comments_by_hour[hour] / posts_by_hour[hour], '.2f')\n",
    "print(\"The average number of comments recieved at each hour of the day:\",'\\n', SortedDisplayDict(avg_by_hour))\n"
   ]
  },
  {
   "cell_type": "markdown",
   "metadata": {},
   "source": [
    "# Final Words\n",
    "That's it for the day! Here's  a quick summary of what we've accomplished in this Data Analysis on 'Hacker News Website' project.\n",
    "- Collected, sorted and analyzed the data from the HN website.\n",
    "- Formatted and cleaned the data to fit for our requirements.\n",
    "- Picked up the important feature from the data.\n",
    "- Finaly,Calculated the average number of comments received on each hour of the day. \n",
    "\n",
    "    "
   ]
  }
 ],
 "metadata": {
  "kernelspec": {
   "display_name": "Python 3",
   "language": "python",
   "name": "python3"
  },
  "language_info": {
   "codemirror_mode": {
    "name": "ipython",
    "version": 3
   },
   "file_extension": ".py",
   "mimetype": "text/x-python",
   "name": "python",
   "nbconvert_exporter": "python",
   "pygments_lexer": "ipython3",
   "version": "3.5.2"
  }
 },
 "nbformat": 4,
 "nbformat_minor": 2
}
